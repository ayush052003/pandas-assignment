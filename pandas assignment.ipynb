{
 "cells": [
  {
   "cell_type": "code",
   "execution_count": 3,
   "id": "18c590f9-b0d1-47ee-99e8-62fedb50593a",
   "metadata": {},
   "outputs": [
    {
     "data": {
      "text/plain": [
       "'Q1. Create a Pandas Series that contains the following data: 4, 8, 15, 16, 23, and 42. Then, print the series.'"
      ]
     },
     "execution_count": 3,
     "metadata": {},
     "output_type": "execute_result"
    }
   ],
   "source": [
    "'''Q1. Create a Pandas Series that contains the following data: 4, 8, 15, 16, 23, and 42. Then, print the series.'''"
   ]
  },
  {
   "cell_type": "code",
   "execution_count": 1,
   "id": "cfc29b92-fcf0-4988-a9dd-5e1a10ca47f0",
   "metadata": {},
   "outputs": [],
   "source": [
    "import pandas as pd\n"
   ]
  },
  {
   "cell_type": "code",
   "execution_count": 2,
   "id": "a9b4a611-12e5-405f-885c-96e5cdf2481b",
   "metadata": {},
   "outputs": [
    {
     "name": "stdout",
     "output_type": "stream",
     "text": [
      "0     4\n",
      "1     8\n",
      "2    15\n",
      "3    16\n",
      "4    23\n",
      "5    42\n",
      "dtype: int64\n"
     ]
    }
   ],
   "source": [
    "list = [4,8,15,16,23,42]\n",
    "\n",
    "run = pd.Series(list)\n",
    "print(run)"
   ]
  },
  {
   "cell_type": "code",
   "execution_count": 4,
   "id": "331aeea0-0516-4561-abbe-1c246f80c2a0",
   "metadata": {},
   "outputs": [
    {
     "data": {
      "text/plain": [
       "'Q2. Create a variable of list type containing 10 elements in it, and apply pandas.Series function on the \\nvariable print it.'"
      ]
     },
     "execution_count": 4,
     "metadata": {},
     "output_type": "execute_result"
    }
   ],
   "source": [
    "'''Q2. Create a variable of list type containing 10 elements in it, and apply pandas.Series function on the \n",
    "variable print it.'''"
   ]
  },
  {
   "cell_type": "code",
   "execution_count": 6,
   "id": "904a2b55-7309-46fc-84a2-56ec791bad1d",
   "metadata": {},
   "outputs": [
    {
     "name": "stdout",
     "output_type": "stream",
     "text": [
      "0     10\n",
      "1     20\n",
      "2     30\n",
      "3     40\n",
      "4     50\n",
      "5     60\n",
      "6     70\n",
      "7     80\n",
      "8     90\n",
      "9    100\n",
      "dtype: int64\n"
     ]
    }
   ],
   "source": [
    "a = [10,20,30,40,50,60,70,80,90,100]\n",
    "\n",
    "b = pd.Series(a)\n",
    "print(b)"
   ]
  },
  {
   "cell_type": "code",
   "execution_count": 7,
   "id": "b43b577d-d1dc-4ffa-8c5e-f8b0f7ff6529",
   "metadata": {},
   "outputs": [
    {
     "data": {
      "text/plain": [
       "'Q3. Create a Pandas DataFrame that contains the following data:'"
      ]
     },
     "execution_count": 7,
     "metadata": {},
     "output_type": "execute_result"
    }
   ],
   "source": [
    "'''Q3. Create a Pandas DataFrame that contains the following data:'''"
   ]
  },
  {
   "cell_type": "code",
   "execution_count": 9,
   "id": "b145367a-ffa5-40cf-9aa4-9d390f6829b4",
   "metadata": {},
   "outputs": [
    {
     "name": "stdout",
     "output_type": "stream",
     "text": [
      "     Name  Age  Gender\n",
      "0   Alice   25  female\n",
      "1     Bob   30    male\n",
      "2  Claire   27  female\n"
     ]
    }
   ],
   "source": [
    "data = [['Alice', 25,'female'], ['Bob', 30,'male'], ['Claire', 27,'female']] \n",
    "  \n",
    "df = pd.DataFrame(data, columns=['Name', 'Age', 'Gender']) \n",
    "print(df) "
   ]
  },
  {
   "cell_type": "code",
   "execution_count": 10,
   "id": "8520587f-2b98-49b7-a4db-fc6551bd4e6e",
   "metadata": {},
   "outputs": [
    {
     "data": {
      "text/html": [
       "<div>\n",
       "<style scoped>\n",
       "    .dataframe tbody tr th:only-of-type {\n",
       "        vertical-align: middle;\n",
       "    }\n",
       "\n",
       "    .dataframe tbody tr th {\n",
       "        vertical-align: top;\n",
       "    }\n",
       "\n",
       "    .dataframe thead th {\n",
       "        text-align: right;\n",
       "    }\n",
       "</style>\n",
       "<table border=\"1\" class=\"dataframe\">\n",
       "  <thead>\n",
       "    <tr style=\"text-align: right;\">\n",
       "      <th></th>\n",
       "      <th>Name</th>\n",
       "      <th>Age</th>\n",
       "      <th>Gender</th>\n",
       "    </tr>\n",
       "  </thead>\n",
       "  <tbody>\n",
       "    <tr>\n",
       "      <th>0</th>\n",
       "      <td>Alice</td>\n",
       "      <td>25</td>\n",
       "      <td>female</td>\n",
       "    </tr>\n",
       "    <tr>\n",
       "      <th>1</th>\n",
       "      <td>Bob</td>\n",
       "      <td>30</td>\n",
       "      <td>male</td>\n",
       "    </tr>\n",
       "    <tr>\n",
       "      <th>2</th>\n",
       "      <td>Claire</td>\n",
       "      <td>27</td>\n",
       "      <td>female</td>\n",
       "    </tr>\n",
       "  </tbody>\n",
       "</table>\n",
       "</div>"
      ],
      "text/plain": [
       "     Name  Age  Gender\n",
       "0   Alice   25  female\n",
       "1     Bob   30    male\n",
       "2  Claire   27  female"
      ]
     },
     "execution_count": 10,
     "metadata": {},
     "output_type": "execute_result"
    }
   ],
   "source": [
    "df"
   ]
  },
  {
   "cell_type": "code",
   "execution_count": 11,
   "id": "2c250fb7-8d10-4e50-81cb-dbdb6ec597fc",
   "metadata": {},
   "outputs": [
    {
     "data": {
      "text/plain": [
       "'Q4. What is ‘DataFrame’ in pandas and how is it different from pandas.series? Explain with an example.'"
      ]
     },
     "execution_count": 11,
     "metadata": {},
     "output_type": "execute_result"
    }
   ],
   "source": [
    "'''Q4. What is ‘DataFrame’ in pandas and how is it different from pandas.series? Explain with an example.'''"
   ]
  },
  {
   "cell_type": "code",
   "execution_count": 12,
   "id": "32819b65-5924-4fd1-82fb-0a14660c59e2",
   "metadata": {},
   "outputs": [],
   "source": [
    "# A Pandas Series is a 1D array of data, but a single-column DataFrame is a 2D table with one column. The main distinction between the two is this. \n",
    "# For a single-column DataFrame, an index can be optional, but a Series has to have an index defined\n",
    "\n",
    "# lets take one example...."
   ]
  },
  {
   "cell_type": "code",
   "execution_count": 13,
   "id": "d50ea283-4715-4797-bcb6-89bba552e061",
   "metadata": {},
   "outputs": [
    {
     "name": "stdout",
     "output_type": "stream",
     "text": [
      "0    Kawasaki\n",
      "1         BMW\n",
      "2      Ducati\n",
      "3    Hayabusa\n",
      "4      Yamaha\n",
      "5     Aprilia\n",
      "dtype: object\n"
     ]
    }
   ],
   "source": [
    "# Example of series.....\n",
    "\n",
    "a=['Kawasaki','BMW',\"Ducati\",'Hayabusa','Yamaha','Aprilia']\n",
    "\n",
    "code = pd.Series(a)\n",
    "print(code)"
   ]
  },
  {
   "cell_type": "code",
   "execution_count": 14,
   "id": "697f3152-cac3-4346-a3e5-5ac7e112117c",
   "metadata": {},
   "outputs": [
    {
     "name": "stdout",
     "output_type": "stream",
     "text": [
      "      Brand  Engine cc     Model\n",
      "0  kawasaki       1000      H2-r\n",
      "1    ducati       1200  panigale\n",
      "2       BMW       1000  s1000-rr\n"
     ]
    }
   ],
   "source": [
    "# Example of dataframe.....\n",
    "\n",
    "data = [['kawasaki', 1000,'H2-r'], ['ducati', 1200,'panigale'], ['BMW', 1000,'s1000-rr']] \n",
    "  \n",
    "df = pd.DataFrame(data, columns=['Brand', 'Engine cc', 'Model']) \n",
    "print(df) "
   ]
  },
  {
   "cell_type": "code",
   "execution_count": 15,
   "id": "1e47760e-ac54-48f7-abc6-b9a7c30e219f",
   "metadata": {},
   "outputs": [
    {
     "data": {
      "text/plain": [
       "'Q6. Which of the following is mutable in nature Series, DataFrame, Panel?'"
      ]
     },
     "execution_count": 15,
     "metadata": {},
     "output_type": "execute_result"
    }
   ],
   "source": [
    "'''Q6. Which of the following is mutable in nature Series, DataFrame, Panel?'''"
   ]
  },
  {
   "cell_type": "code",
   "execution_count": 16,
   "id": "212a96ba-cd23-4526-9ee5-5684f72e5205",
   "metadata": {},
   "outputs": [
    {
     "data": {
      "text/plain": [
       "' DataFrames are two-Dimensional array and are mutable in nature where as Panels are three-dimensional array and they are also mutable in nature'"
      ]
     },
     "execution_count": 16,
     "metadata": {},
     "output_type": "execute_result"
    }
   ],
   "source": [
    "''' DataFrames are two-Dimensional array and are mutable in nature where as Panels are three-dimensional array and they are also mutable in nature''' "
   ]
  },
  {
   "cell_type": "code",
   "execution_count": 17,
   "id": "a63bd888-5890-4819-9679-74a0f02522f5",
   "metadata": {},
   "outputs": [
    {
     "data": {
      "text/plain": [
       "'Q7. Create a DataFrame using multiple Series. Explain with an example.'"
      ]
     },
     "execution_count": 17,
     "metadata": {},
     "output_type": "execute_result"
    }
   ],
   "source": [
    "'''Q7. Create a DataFrame using multiple Series. Explain with an example.'''"
   ]
  },
  {
   "cell_type": "code",
   "execution_count": null,
   "id": "8c049375-e377-40c2-9f24-4a15d706688b",
   "metadata": {},
   "outputs": [],
   "source": []
  }
 ],
 "metadata": {
  "kernelspec": {
   "display_name": "Python 3 (ipykernel)",
   "language": "python",
   "name": "python3"
  },
  "language_info": {
   "codemirror_mode": {
    "name": "ipython",
    "version": 3
   },
   "file_extension": ".py",
   "mimetype": "text/x-python",
   "name": "python",
   "nbconvert_exporter": "python",
   "pygments_lexer": "ipython3",
   "version": "3.10.8"
  }
 },
 "nbformat": 4,
 "nbformat_minor": 5
}
